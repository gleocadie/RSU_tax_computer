{
 "cells": [
  {
   "cell_type": "code",
   "execution_count": 1,
   "id": "56603389",
   "metadata": {
    "ExecuteTime": {
     "end_time": "2022-03-15T21:13:39.355569Z",
     "start_time": "2022-03-15T21:13:38.928082Z"
    }
   },
   "outputs": [],
   "source": [
    "import pandas as pd\n",
    "import datetime as datetime\n",
    "import numpy as np\n",
    "import copy\n",
    "from RSU_functions import * "
   ]
  },
  {
   "cell_type": "code",
   "execution_count": 2,
   "id": "9d6ea4fa",
   "metadata": {
    "ExecuteTime": {
     "end_time": "2022-03-15T21:13:39.360369Z",
     "start_time": "2022-03-15T21:13:39.357676Z"
    }
   },
   "outputs": [],
   "source": [
    "# If you want to change your marginal income tax (above 72k of taxable income, it is at 41%). Not really needed\n",
    "tax_info_dict = {'TMI_IR': 0.3, 'cotisation': 0.172, 'flat_tax_plus_value': 0.3, 'deductible_csg':0.0680}"
   ]
  },
  {
   "cell_type": "markdown",
   "id": "33ca80c8",
   "metadata": {},
   "source": [
    "# Put here all sales and vesting event from EquatePlus\n",
    "please put all event until end of 2021, including sales / vesting from before (other years). If you have sales in 2019 or 2020 either rely on the built in function or please du check yourself how you reported them before. \n",
    "\n",
    "If you sold everything you had at one point, before 2020 then you can put only vesting and transaction after this big sale event.\n",
    "\n",
    "If you sold everything in 2020, please put all information in 2020 and even before if you want the CSG rebate computation, if you don't, you may start with all events starting after this \"big sales\". Please note this CSG rebate should be prefilled, so it is only to check.\n",
    "\n",
    "If you did not sell everything, please find out which stock you declared selling in your previous declaration (for stock sold before this year of 2021) and add the amount sold to the vesting event as amount_already_declared\n",
    "\n",
    "For sales, you need to add the stock unit price. In equate plus, go to the bibliotheque menu, then transaction. For sales, click on the date which is clickable and then report \"prix de vente\" IN USD (VERY IMPORTANT).\n",
    "\n",
    "For Macron law, you do not have new macron law 3 stocks from Criteo. Indeed (ridiculously) the date of interest for the macron law 3 to kick in is not the grant date, but the date of the AG autorising the grant. Sadly all of our grants coming before the June 25th 2020 are NOT macron law eligible. Should you decide to have your (wrong) interpretation of the law, it should work though.\n",
    "\n",
    "If you sold more than 300k this year, please note that the macron law 1 or 2 differs. This notebook is not handling it correctly."
   ]
  },
  {
   "cell_type": "code",
   "execution_count": 3,
   "id": "e4ab2a15",
   "metadata": {
    "ExecuteTime": {
     "end_time": "2022-03-15T21:13:39.542507Z",
     "start_time": "2022-03-15T21:13:39.530802Z"
    }
   },
   "outputs": [],
   "source": [
    "\n",
    "vesting_event = [#each row for a vesting. If you have more vesting, please copy the full line with the comma at the end, and then put your value on each row. \n",
    "    # You should fill just the date and the amount. Please let macron_law_id at 0, we do not have newer RSU. If you decide \n",
    "    # to have your personnal interpretation of the law, or have non-criteo RSU, please put 3 instead.\n",
    "                 {'date':datetime.datetime(2018,06,29),'amount':250,'macron_law_id':0, 'event':'vesting',\n",
    "                {'date':datetime.datetime(2018,10,1),'amount':31,'macron_law_id':0, 'event':'vesting',\n",
    "                {'date':datetime.datetime(2018,12,28),'amount':32,'macron_law_id':0, 'event':'vesting',\n",
    "                {'date':datetime.datetime(2019,3,28),'amount':31,'macron_law_id':0, 'event':'vesting',\n",
    "                {'date':datetime.datetime(2019,6,28),'amount':32,'macron_law_id':0, 'event':'vesting',\n",
    "                {'date':datetime.datetime(2019,9,30),'amount':31,'macron_law_id':0, 'event':'vesting'},\n",
    "                {'date':datetime.datetime(2019,12,30),'amount':31,'macron_law_id':0, 'event':'vesting'},\n",
    "                {'date':datetime.datetime(2020,3,16),'amount':600,'macron_law_id':0, 'event':'vesting'},\n",
    "                {'date':datetime.datetime(2020,3,30),'amount':31,'macron_law_id':0, 'event':'vesting'},\n",
    "                {'date':datetime.datetime(2020,6,16),'amount':75,'macron_law_id':0, 'event':'vesting'},\n",
    "                {'date':datetime.datetime(2020,6,29),'amount':31,'macron_law_id':0, 'event':'vesting'},\n",
    "                {'date':datetime.datetime(2020,7,27),'amount':200,'macron_law_id':0, 'event':'vesting'},\n",
    "                {'date':datetime.datetime(2020,9,16),'amount':75,'macron_law_id':0, 'event':'vesting'},\n",
    "                {'date':datetime.datetime(2020,10,26),'amount':25,'macron_law_id':0, 'event':'vesting'},\n",
    "                {'date':datetime.datetime(2020,12,16),'amount':75,'macron_law_id':0, 'event':'vesting'},\n",
    "                {'date':datetime.datetime(2021,1,26),'amount':25,'macron_law_id':0, 'event':'vesting'}\n",
    "                ]\n",
    "\n",
    "selling_event = [\n",
    "                 #each row for a sale. If you have more sale, please copy the full line with the comma at the end, and then put your value on each row. \n",
    "    # You should just fill the date, amount, and stock_unit_price_USD, and total_fee_dollars \n",
    "    {'date':datetime.datetime(2021,2,22),'amount':1575, 'event':'sale', 'stock_unit_price_USD':32.678971, 'total_fee_dollars':195.8}\n",
    "]"
   ]
  },
  {
   "cell_type": "markdown",
   "id": "7b7ed219",
   "metadata": {},
   "source": [
    "Computation occurs here, please just run these cells"
   ]
  },
  {
   "cell_type": "code",
   "execution_count": 4,
   "id": "2ebada58",
   "metadata": {
    "ExecuteTime": {
     "end_time": "2022-03-15T21:13:39.551244Z",
     "start_time": "2022-03-15T21:13:39.544303Z"
    }
   },
   "outputs": [],
   "source": [
    "all_events_sorted = sorted(vesting_event + selling_event, key = lambda k: k['date'])"
   ]
  },
  {
   "cell_type": "code",
   "execution_count": 5,
   "id": "899a76a8",
   "metadata": {
    "ExecuteTime": {
     "end_time": "2022-03-15T21:13:39.720821Z",
     "start_time": "2022-03-15T21:13:39.712758Z"
    },
    "code_folding": [],
    "scrolled": false
   },
   "outputs": [],
   "source": [
    "portfolio = {}\n",
    "portfolio['available_stock'] = []\n",
    "portfolio['sale_event_recap'] = []\n",
    "for event in all_events_sorted:\n",
    "    if event['event'] == 'vesting':\n",
    "        portfolio['available_stock'].append(copy.deepcopy(event))\n",
    "    if event['event'] == 'sale':\n",
    "        available_stock_after_transaction, sale_event_recap = get_sales_result(event, portfolio,\n",
    "                                                                               matching_method = get_sale_order_from_optionality)\n",
    "        portfolio['available_stock'] = available_stock_after_transaction\n",
    "        portfolio['sale_event_recap'].append(sale_event_recap)\n",
    "    if event['date'].year == 2021:\n",
    "        sum_stock_supposed_to_be_sold = 0\n",
    "        for stock in portfolio['available_stock']:\n",
    "            sum_stock_supposed_to_be_sold += stock.get('amount_already_declared', 0)\n",
    "        if sum_stock_supposed_to_be_sold> 0:\n",
    "            raise Exception(\n",
    "            '''\n",
    "            you have stock that you already declared in the previous years that are getting sold in 2021. Please recheck\n",
    "            your inputs. If you declared them, they should have been sold in the past.            \n",
    "            ''')\n",
    "        "
   ]
  },
  {
   "cell_type": "code",
   "execution_count": 6,
   "id": "74af5170",
   "metadata": {
    "ExecuteTime": {
     "end_time": "2022-03-15T21:13:39.736236Z",
     "start_time": "2022-03-15T21:13:39.722559Z"
    }
   },
   "outputs": [
    {
     "data": {
      "text/plain": [
       "[]"
      ]
     },
     "execution_count": 6,
     "metadata": {},
     "output_type": "execute_result"
    }
   ],
   "source": [
    "available_stock_after_transaction"
   ]
  },
  {
   "cell_type": "markdown",
   "id": "6882247b",
   "metadata": {},
   "source": [
    "# Results to put in your taxation returns\n",
    "Ici, toute les infos sont printer pour remplir le formulaire No 2074. \n",
    "pour 511 mettre Action criteo et equateplus.\n",
    "Vesting amount with moins value, rebate etc... are for debugging purposes, please look if they make sense."
   ]
  },
  {
   "cell_type": "code",
   "execution_count": 7,
   "id": "faf3d9c5",
   "metadata": {
    "ExecuteTime": {
     "end_time": "2022-03-15T21:13:39.764452Z",
     "start_time": "2022-03-15T21:13:39.741734Z"
    },
    "scrolled": true
   },
   "outputs": [
    {
     "name": "stdout",
     "output_type": "stream",
     "text": [
      "\n",
      " ----------------NOUVELLE TRANSACTION ---------- \n",
      "\n",
      "date de la cession (513) 2021-03-16 00:00:00\n",
      "valeur unitaire de la cession (514) 27.980882106322316\n",
      "nombre de titres cedes (515) 28\n",
      "montant global (516) 783.4646989770248\n",
      "frais de cession (517) 32.2824081838001\n",
      "prix de cession net (518) 751.1822907932246\n",
      "prix ou valeur acquisition unitaire (520) 27.684563758389263\n",
      "prix daquisition global (521 et 523) 775.1677852348994\n",
      "resultat -23.985494441674746\n",
      "vesting_amount_with_moins_value 775.1677852348994\n",
      "rebate_without_moins_value 0.0\n",
      "rebate 0\n",
      "tax 368.3682687535101\n",
      "\n",
      " ----------------NOUVELLE TRANSACTION ---------- \n",
      "\n",
      "date de la cession (513) 2021-08-06 00:00:00\n",
      "valeur unitaire de la cession (514) 33.18370458202761\n",
      "nombre de titres cedes (515) 600\n",
      "montant global (516) 19910.222749216566\n",
      "frais de cession (517) 45.84568476327602\n",
      "prix de cession net (518) 19864.37706445329\n",
      "prix ou valeur acquisition unitaire (520) 36.09909222024263\n",
      "prix daquisition global (521 et 523) 21659.45533214558\n",
      "resultat -1795.07826769229\n",
      "vesting_amount_with_moins_value 19910.222749216566\n",
      "rebate_without_moins_value 10829.72766607279\n",
      "rebate 0.5\n",
      "tax 6411.091725247734\n",
      "\n",
      " ----------------NOUVELLE TRANSACTION ---------- \n",
      "\n",
      "date de la cession (513) 2021-08-06 00:00:00\n",
      "valeur unitaire de la cession (514) 33.18370458202761\n",
      "nombre de titres cedes (515) 28\n",
      "montant global (516) 929.143728296773\n",
      "frais de cession (517) 45.84568476327602\n",
      "prix de cession net (518) 883.298043533497\n",
      "prix ou valeur acquisition unitaire (520) 33.6608322324967\n",
      "prix daquisition global (521 et 523) 942.5033025099076\n",
      "resultat -59.20525897641062\n",
      "vesting_amount_with_moins_value 929.143728296773\n",
      "rebate_without_moins_value 0.0\n",
      "rebate 0\n",
      "tax 438.55583975607686\n",
      "\n",
      " ----------------NOUVELLE TRANSACTION ---------- \n",
      "\n",
      "date de la cession (513) 2021-09-14 00:00:00\n",
      "valeur unitaire de la cession (514) 31.081767394616556\n",
      "nombre de titres cedes (515) 28\n",
      "montant global (516) 870.2894870492636\n",
      "frais de cession (517) 32.588454376163874\n",
      "prix de cession net (518) 837.7010326730997\n",
      "prix ou valeur acquisition unitaire (520) 30.560271646859086\n",
      "prix daquisition global (521 et 523) 855.6876061120544\n",
      "resultat -17.98657343895468\n",
      "vesting_amount_with_moins_value 855.6876061120544\n",
      "rebate_without_moins_value 0.0\n",
      "rebate 0\n",
      "tax 408.26511436605244\n",
      "\n",
      " ----------------NOUVELLE TRANSACTION ---------- \n",
      "\n",
      "date de la cession (513) 2021-11-05 00:00:00\n",
      "valeur unitaire de la cession (514) 35.22007118673496\n",
      "nombre de titres cedes (515) 75\n",
      "montant global (516) 2641.505339005122\n",
      "frais de cession (517) 33.42304019446133\n",
      "prix de cession net (518) 2608.0822988106606\n",
      "prix ou valeur acquisition unitaire (520) 29.302766525898473\n",
      "prix daquisition global (521 et 523) 2197.7074894423854\n",
      "resultat 410.37480936827524\n",
      "vesting_amount_with_moins_value 2197.7074894423854\n",
      "rebate_without_moins_value 0.0\n",
      "rebate 0\n",
      "tax 1170.4572898856268\n",
      "\n",
      " ----------------NOUVELLE TRANSACTION ---------- \n",
      "\n",
      "date de la cession (513) 2021-12-16 00:00:00\n",
      "valeur unitaire de la cession (514) 35.9121383203952\n",
      "nombre de titres cedes (515) 28\n",
      "montant global (516) 1005.5398729710656\n",
      "frais de cession (517) 33.962597035991536\n",
      "prix de cession net (518) 971.5772759350741\n",
      "prix ou valeur acquisition unitaire (520) 38.08299343855294\n",
      "prix daquisition global (521 et 523) 1066.3238162794823\n",
      "resultat -94.74654034440823\n",
      "vesting_amount_with_moins_value 1005.5398729710656\n",
      "rebate_without_moins_value 0.0\n",
      "rebate 0\n",
      "tax 474.61482004234296\n"
     ]
    }
   ],
   "source": [
    "tax = 0\n",
    "Capital_gain_or_loss = 0\n",
    "vesting_gain_before_rebate_and_moins_value = 0\n",
    "rebate_amount = 0\n",
    "total_selling_price = 0\n",
    "csg_rebate = 0\n",
    "Capital_gain_or_loss_2020 = 0\n",
    "rebate_amount_2020 = 0\n",
    "vesting_gain_before_rebate_and_moins_value_2020 = 0\n",
    "for event in portfolio['sale_event_recap']:\n",
    "    for ev in event:            \n",
    "        if ev['date de la cession (513)'].year ==2021:\n",
    "            print('\\n ----------------NOUVELLE TRANSACTION ---------- \\n')\n",
    "            for key, value in ev.items():\n",
    "                print(  key, value)\n",
    "            tax +=ev['tax']\n",
    "            Capital_gain_or_loss += ev['resultat']\n",
    "            rebate_amount += ev['rebate_without_moins_value']\n",
    "            vesting_gain_before_rebate_and_moins_value += ev['prix daquisition global (521 et 523)']\n",
    "            total_selling_price += ev['prix de cession net (518)']\n",
    "            \n",
    "        if ev['date de la cession (513)'].year ==2020:\n",
    "            #here it is to compute CSG than can be dedudected from last year, box 6DE. Only what is \n",
    "            # subject to IR can be deducted, hence only the  vesting amount after rebate and moins value\n",
    "            #will be deductible\n",
    "            Capital_gain_or_loss_2020 += ev['resultat']\n",
    "            rebate_amount_2020 += ev['rebate_without_moins_value']\n",
    "            vesting_gain_before_rebate_and_moins_value_2020 += ev['prix daquisition global (521 et 523)']\n",
    "        \n"
   ]
  },
  {
   "cell_type": "markdown",
   "id": "8e9ad7bd",
   "metadata": {},
   "source": [
    "Normally here you should have automatically computed the sum of \"plus or moins value\", and it should be equal to the value printed in the cell below. Using the overall plus ou moins value, then I will be able to remove it from the vesting price to reduce overall tax burden if negative. \n",
    "If there is a rebate, I uniformly apply the rebate to the vesting gain with the moins value."
   ]
  },
  {
   "cell_type": "code",
   "execution_count": 8,
   "id": "0a0ebda4",
   "metadata": {
    "ExecuteTime": {
     "end_time": "2022-03-15T21:13:40.043838Z",
     "start_time": "2022-03-15T21:13:40.040608Z"
    }
   },
   "outputs": [
    {
     "name": "stdout",
     "output_type": "stream",
     "text": [
      "The total capital gain or loss is -1580.627325525463\n"
     ]
    }
   ],
   "source": [
    "print('The total capital gain or loss is {}'.format(Capital_gain_or_loss))"
   ]
  },
  {
   "cell_type": "code",
   "execution_count": 9,
   "id": "c79c47af",
   "metadata": {
    "ExecuteTime": {
     "end_time": "2022-03-15T21:13:40.052644Z",
     "start_time": "2022-03-15T21:13:40.045706Z"
    }
   },
   "outputs": [],
   "source": [
    "if Capital_gain_or_loss >0:\n",
    "    vesting_gain_after_rebate_and_moins_value = vesting_gain_before_rebate_and_moins_value - rebate_amount\n",
    "    total_tax_to_pay_approx = vesting_gain_after_rebate_and_moins_value * (tax_info_dict['TMI_IR'] + tax_info_dict[\n",
    "            'cotisation']) + Capital_gain_or_loss * tax_info_dict[\n",
    "                         'flat_tax_plus_value']\n",
    "    rebate = rebate_amount\n",
    "else:\n",
    "    rebate_percent = rebate_amount / vesting_gain_before_rebate_and_moins_value\n",
    "    vesting_gain_after_rebate_and_moins_value = (vesting_gain_before_rebate_and_moins_value + Capital_gain_or_loss) * (1-rebate_percent)\n",
    "    rebate = (vesting_gain_before_rebate_and_moins_value + Capital_gain_or_loss) * (rebate_percent)\n",
    "    total_tax_to_pay_approx = vesting_gain_after_rebate_and_moins_value * (tax_info_dict['TMI_IR'] + tax_info_dict[\n",
    "            'cotisation'])"
   ]
  },
  {
   "cell_type": "code",
   "execution_count": 10,
   "id": "be5aa9e9",
   "metadata": {
    "ExecuteTime": {
     "end_time": "2022-03-15T21:13:40.061151Z",
     "start_time": "2022-03-15T21:13:40.054548Z"
    }
   },
   "outputs": [
    {
     "name": "stdout",
     "output_type": "stream",
     "text": [
      "fill 1TZ, form 2042 C with  15709.02588085749\n",
      "fill 1UZ , form 2042 C with the rebate in euro 10207.19212534135\n",
      "fill 3VG , form 2042 C with capital gain 0\n",
      "fill 3VH , form 2042 C with capital loss 0 except if you have other sources of capital losses. You fill 0 because you are removing these losses from the 1TZ field\n",
      "You sold for 25916.22 this amount of stocks\n",
      "You will pay around  7414.66 this amount of tax, sorry\n"
     ]
    }
   ],
   "source": [
    "if vesting_gain_after_rebate_and_moins_value > 300000:\n",
    "    print('fill 1TT, form 2042 C with ', vesting_gain_after_rebate_and_moins_value - 300000 )\n",
    "print('fill 1TZ, form 2042 C with ', vesting_gain_after_rebate_and_moins_value)\n",
    "print('fill 1UZ , form 2042 C with the rebate in euro', rebate )\n",
    "print('fill 3VG , form 2042 C with capital gain', max(0,Capital_gain_or_loss) )\n",
    "print('fill 3VH , form 2042 C with capital loss', 0, 'except if you have other sources of capital losses. You fill 0 because you are removing these losses from the 1TZ field' )\n",
    "\n",
    "\n",
    "print('You sold for {} this amount of stocks'.format(np.round(total_selling_price,2)))\n",
    "print('You will pay around  {} this amount of tax, sorry'.format(np.round(total_tax_to_pay_approx ,2)))"
   ]
  },
  {
   "cell_type": "markdown",
   "id": "1fb75964",
   "metadata": {},
   "source": [
    "# CSG deduction from previous year (2020)"
   ]
  },
  {
   "cell_type": "markdown",
   "id": "95499afc",
   "metadata": {},
   "source": [
    "If you ahve your previous tax filling, it should be equal to your 1TZ case of last year times the deductible CSG, which is at 6.8%. If you don't, you can use this, should work. It is very likely to be pre filled though. Still there in case of need"
   ]
  },
  {
   "cell_type": "code",
   "execution_count": 11,
   "id": "864aa8b5",
   "metadata": {
    "ExecuteTime": {
     "end_time": "2022-03-15T21:13:40.068655Z",
     "start_time": "2022-03-15T21:13:40.062876Z"
    }
   },
   "outputs": [],
   "source": [
    "if vesting_gain_before_rebate_and_moins_value_2020 ==0:\n",
    "    print('sorry, no CSG to be deducted for this year!')\n",
    "    vesting_gain_after_rebate_and_moins_value_2020 =0\n",
    "    deductible_csg = vesting_gain_after_rebate_and_moins_value_2020 * tax_info_dict['deductible_csg']\n",
    "else:\n",
    "    if Capital_gain_or_loss_2020 >0:\n",
    "        vesting_gain_after_rebate_and_moins_value_2020 = vesting_gain_before_rebate_and_moins_value_2020 - rebate_amount_2020\n",
    "        deductible_csg = vesting_gain_after_rebate_and_moins_value_2020 * tax_info_dict['deductible_csg']\n",
    "    else:\n",
    "        rebate_percent_2020 = rebate_amount_2020 / vesting_gain_before_rebate_and_moins_value_2020\n",
    "        vesting_gain_after_rebate_and_moins_value_2020 = (vesting_gain_before_rebate_and_moins_value_2020 + Capital_gain_or_loss_2020) * (1-rebate_percent_2020)\n",
    "        deductible_csg = vesting_gain_after_rebate_and_moins_value_2020 * tax_info_dict['deductible_csg']"
   ]
  },
  {
   "cell_type": "code",
   "execution_count": 12,
   "id": "cefe7306",
   "metadata": {
    "ExecuteTime": {
     "end_time": "2022-03-15T21:13:40.674732Z",
     "start_time": "2022-03-15T21:13:40.671772Z"
    }
   },
   "outputs": [
    {
     "name": "stdout",
     "output_type": "stream",
     "text": [
      "fill box 6DE 277.08647335927674\n"
     ]
    }
   ],
   "source": [
    "print('fill box 6DE', deductible_csg)"
   ]
  },
  {
   "cell_type": "code",
   "execution_count": null,
   "id": "f2a62c7f",
   "metadata": {},
   "outputs": [],
   "source": []
  }
 ],
 "metadata": {
  "hide_input": false,
  "kernelspec": {
   "display_name": "Python Criteo (MOAB #46305)",
   "language": "python",
   "name": "python-kernel-46305"
  },
  "language_info": {
   "codemirror_mode": {
    "name": "ipython",
    "version": 3
   },
   "file_extension": ".py",
   "mimetype": "text/x-python",
   "name": "python",
   "nbconvert_exporter": "python",
   "pygments_lexer": "ipython3",
   "version": "3.6.8"
  },
  "toc": {
   "base_numbering": 1,
   "nav_menu": {},
   "number_sections": true,
   "sideBar": true,
   "skip_h1_title": false,
   "title_cell": "Table of Contents",
   "title_sidebar": "Contents",
   "toc_cell": false,
   "toc_position": {},
   "toc_section_display": true,
   "toc_window_display": false
  }
 },
 "nbformat": 4,
 "nbformat_minor": 5
}
